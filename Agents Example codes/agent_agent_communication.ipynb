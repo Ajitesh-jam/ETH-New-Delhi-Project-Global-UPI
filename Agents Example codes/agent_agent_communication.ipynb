{
 "cells": [
  {
   "cell_type": "code",
   "execution_count": null,
   "id": "4bfb506c",
   "metadata": {},
   "outputs": [],
   "source": [
    "from uagents import Agent, Context, Model\n",
    "\n",
    "# Data model (envolope) which you want to send from one agent to another\n",
    "class Message(Model):\n",
    "    message : str\n",
    "    field : int\n",
    "\n",
    "my_first_agent = Agent(\n",
    "    name = 'My First Agent',\n",
    "    port = 5050,\n",
    "    endpoint = ['http://localhost:5050/submit']\n",
    ")\n",
    "\n",
    "second_agent = 'your_second_agent_address'\n",
    "\n",
    "@my_first_agent.on_event('startup')\n",
    "async def startup_handler(ctx : Context):\n",
    "    ctx.logger.info(f'My name is {ctx.agent.name} and my address  is {ctx.agent.address}')\n",
    "    await ctx.send(second_agent, Message(message = 'Hi Second Agent, this is the first agent.'))\n",
    "\n",
    "if __name__ == \"__main__\":\n",
    "    my_first_agent.run()"
   ]
  },
  {
   "cell_type": "code",
   "execution_count": null,
   "id": "e6f8c2ee",
   "metadata": {},
   "outputs": [],
   "source": []
  },
  {
   "cell_type": "code",
   "execution_count": null,
   "id": "b60bc025",
   "metadata": {},
   "outputs": [],
   "source": [
    "# !pip install requests\n",
    "import requests, os, json\n",
    "from dotenv import load_dotenv\n",
    "\n",
    "# Load environment variables from .env file\n",
    "load_dotenv()\n",
    "\n",
    "print(\"my environment variables are:\")\n",
    "print(os.getenv('ASI_ONE_API_KEY'))\n",
    "url = \"https://api.asi1.ai/v1/chat/completions\"\n",
    "headers = {\n",
    "\"Authorization\": f\"Bearer {os.getenv('ASI_ONE_API_KEY')}\",\n",
    "\"Content-Type\": \"application/json\"\n",
    "}\n",
    "body = {\n",
    "\"model\": \"asi1-mini\",\n",
    "\"messages\": [{\"role\": \"user\", \"content\": \"Hello! How can you help me today?\"}]\n",
    "}\n",
    "\n",
    "# Check if API key exists before making the request\n",
    "api_key = os.getenv('ASI_ONE_API_KEY')\n",
    "if api_key:\n",
    "    response = requests.post(url, headers=headers, json=body)\n",
    "    result = response.json()\n",
    "    \n",
    "    # Better error handling for the API response\n",
    "    if \"choices\" in result:\n",
    "        print(result[\"choices\"][0][\"message\"][\"content\"])\n",
    "    else:\n",
    "        print(\"Error in API response:\", result)\n",
    "else:\n",
    "    print(\"ASI_ONE_API_KEY not found. Please check your .env file.\")"
   ]
  }
 ],
 "metadata": {
  "kernelspec": {
   "display_name": "tf_numpy2",
   "language": "python",
   "name": "python3"
  },
  "language_info": {
   "name": "python",
   "version": "3.11.13"
  }
 },
 "nbformat": 4,
 "nbformat_minor": 5
}
